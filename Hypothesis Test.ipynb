{
 "cells": [
  {
   "cell_type": "code",
   "execution_count": null,
   "id": "9e6bae89",
   "metadata": {},
   "outputs": [],
   "source": [
    "Average salary of a person is $100 when a survey was conducted in 2019, \n",
    "but now for a survey to be conducted in 2025, I take 30 participants and \n",
    "I found out that the average salary of them is one $140 with a standard deviation \n",
    "of $20 at a 95% confident interval, can you tell me whether salaries have actually\n",
    "changed or not?\n",
    "\n",
    "# carefully"
   ]
  },
  {
   "cell_type": "code",
   "execution_count": null,
   "id": "1840cef5",
   "metadata": {},
   "outputs": [],
   "source": [
    "null : avg salary = 100 (no change in salaries)\n",
    "alt  : avg salary != 100 (there is significant change is salaries)"
   ]
  },
  {
   "cell_type": "code",
   "execution_count": null,
   "id": "396fc7a6",
   "metadata": {},
   "outputs": [],
   "source": [
    "# significance testing\n",
    "#  never "
   ]
  },
  {
   "cell_type": "code",
   "execution_count": 11,
   "id": "c4071d19",
   "metadata": {},
   "outputs": [
    {
     "name": "stdout",
     "output_type": "stream",
     "text": [
      "t_statistic:  -10.954451150103322\n",
      "degree_of_freedom : 29\n",
      "p_value : 8.021361352916756e-12\n",
      "Reject H0: avg salary != 100 (there is significant change is salaries) \n"
     ]
    }
   ],
   "source": [
    "#librar\n",
    "from scipy import stats\n",
    "import numpy as np\n",
    "\n",
    "#data\n",
    "sample_mean = 60 #2025\n",
    "sample_std = 20\n",
    "n = 30\n",
    "population_mean = 100 #2019\n",
    "alpha = 0.05\n",
    "\n",
    "#1step- t stat\n",
    "t_statistic = (sample_mean - population_mean) / (sample_std/np.sqrt(n))\n",
    "print(f\"t_statistic:  {t_statistic}\")\n",
    "\n",
    "#step-2\n",
    "degree_of_freedom = n - 1\n",
    "print(f\"degree_of_freedom : {degree_of_freedom}\")\n",
    "\n",
    "# #step 3 critical value\n",
    "# t_critical_value = stats.t.ppf(1 - alpha/2, degree_of_freedom)\n",
    "# print(f\"t_critical_value : {t_critical_value}\")\n",
    "\n",
    "#two tail \n",
    "p_value = 2 * (1 - stats.t.cdf(abs(t_statistic),degree_of_freedom))\n",
    "print(f\"p_value : {p_value}\")\n",
    "\n",
    "\n",
    "#universal line\n",
    "if p_value < alpha:\n",
    "    print(\"Reject H0: avg salary != 100 (there is significant change is salaries) \")\n",
    "else:\n",
    "    print(\"Accept H0: avg salary = 100 (no change in salaries)\")"
   ]
  },
  {
   "cell_type": "code",
   "execution_count": 16,
   "id": "8de8fd39",
   "metadata": {},
   "outputs": [
    {
     "name": "stdout",
     "output_type": "stream",
     "text": [
      "mean: 74.2\n",
      "t_statistic : 3.27964899966073\n",
      "p_value:  0.009534613041301007\n",
      "Reject H0: punjab state and sanatan school are not performing same (sig diff in score)  \n"
     ]
    }
   ],
   "source": [
    "punjab_state_avg = 70\n",
    "\n",
    "sanatan_school_score = [72,75,68,70,76,80,79,73,71,78]\n",
    "\n",
    "mean = np.mean(sanatan_school_score)\n",
    "print(f\"mean: {mean}\")\n",
    "\n",
    "t_statistic, p_value = stats.ttest_1samp(sanatan_school_score, punjab_state_avg)#two tailed\n",
    "\n",
    "print(f\"t_statistic : {t_statistic}\")\n",
    "print(f\"p_value:  {p_value}\")\n",
    "\n",
    "\n",
    "p_value = p_value/2   #to make p_value /2\n",
    "\n",
    "\n",
    "# null : punjab state and sanatan school are performing same (no sig diff in score)\n",
    "# alter : punjab state and sanatan school are not performing same (sig diff in score)\n",
    "    \n",
    "#universal line\n",
    "if p_value < alpha:\n",
    "    print(\"Reject H0: punjab state and sanatan school are not performing same (sig diff in score)  \")\n",
    "else:\n",
    "    print(\"Accept H0:  punjab state and sanatan school are performing same (no sig diff in score)\")"
   ]
  },
  {
   "cell_type": "code",
   "execution_count": null,
   "id": "a0e717c7",
   "metadata": {},
   "outputs": [],
   "source": [
    "#Z test\n",
    "\n",
    "A factory has a machine that dispenses 80 mL of fluid in a bottle.\n",
    "Now an employee believes that the machine is not working so he takes 40 samples \n",
    "and measures the average quantity and he finds the average quantity to be 78ML \n",
    "with a standard deviation of 2.5 ML, can you please state the alternate and null \n",
    "hypothesis at 95% confidence interval and provide in a evidence to say whether the\n",
    "machine is working properly or whether the machine is not working properly?"
   ]
  },
  {
   "cell_type": "code",
   "execution_count": null,
   "id": "84a8aeb7",
   "metadata": {},
   "outputs": [],
   "source": [
    "null : avg qty of fluid in bottle = 80ml (machine is working fine) \n",
    "alt  : avg qty of fluid in bottle != 80ml (machine is not working fine) \n",
    "    #two tail test"
   ]
  },
  {
   "cell_type": "code",
   "execution_count": 26,
   "id": "adb03fcb",
   "metadata": {},
   "outputs": [
    {
     "name": "stdout",
     "output_type": "stream",
     "text": [
      "z_statistic : -5.059644256269407\n",
      "z_critical_value : 1.959963984540054\n",
      "p_value : 4.200393977082939e-07\n",
      "Reject H0: avg qty of fluid in bottle != 80ml (machine is not working fine)\n"
     ]
    }
   ],
   "source": [
    "#lib\n",
    "from scipy import stats\n",
    "import numpy as np\n",
    "\n",
    "#data\n",
    "sample_mean = 78 #2ml  0.8 ml > sign\n",
    "population_mean = 80\n",
    "std_Dev = 2.5\n",
    "n = 40\n",
    "alpha = 0.05\n",
    "\n",
    "z_statistic = (sample_mean - population_mean) / (std_Dev/np.sqrt(n))\n",
    "print(f\"z_statistic : {z_statistic}\")\n",
    "\n",
    "#in ztets rhere is no degree of freedom calclulation\n",
    "z_critical_value = stats.norm.ppf(1 - alpha/2)\n",
    "print(f\"z_critical_value : {z_critical_value}\")\n",
    "\n",
    "p_value = 2 * (1 - stats.norm.cdf(abs(z_statistic)))\n",
    "print(f\"p_value : {p_value}\")\n",
    "\n",
    "#universal line\n",
    "if p_value < alpha:\n",
    "    print(\"Reject H0: avg qty of fluid in bottle != 80ml (machine is not working fine)\")\n",
    "else:\n",
    "    print(\"Accept H0: avg qty of fluid in bottle = 80ml (machine is working fine)\")"
   ]
  },
  {
   "cell_type": "code",
   "execution_count": 27,
   "id": "6a87842e",
   "metadata": {},
   "outputs": [],
   "source": [
    "#ztest for proportion"
   ]
  },
  {
   "cell_type": "code",
   "execution_count": null,
   "id": "7d03a814",
   "metadata": {},
   "outputs": [],
   "source": [
    "In a sample survey conducted in Berlin, it was found that 960 out of 1860 were \n",
    "vegetarian. Rest were non-vegetarian. Can you calculate at 1% level of significance \n",
    "if both vegetarians and non-vegetarians are equally popular or not?"
   ]
  },
  {
   "cell_type": "code",
   "execution_count": null,
   "id": "0a9888cc",
   "metadata": {},
   "outputs": [],
   "source": [
    "null : veg and non are = (veg and non-veg are 50-50)\n",
    "alt : veg and non are != (veg and non-veg are not 50-50)\n",
    "    #two tail test\n",
    "    \n",
    "# 51-49"
   ]
  },
  {
   "cell_type": "code",
   "execution_count": 28,
   "id": "683ef883",
   "metadata": {},
   "outputs": [],
   "source": [
    "import numpy as np\n",
    "from statsmodels.stats.proportion import proportions_ztest"
   ]
  },
  {
   "cell_type": "code",
   "execution_count": 32,
   "id": "f14e65ab",
   "metadata": {},
   "outputs": [
    {
     "name": "stdout",
     "output_type": "stream",
     "text": [
      "p_hat : 0.5161290322580645\n",
      "z_statistic : 1.3919410907075043\n",
      "p_value : 0.16394023748003028\n",
      "\n",
      "Accept H0: veg and non are = (veg and non-veg not 50-50)\n"
     ]
    }
   ],
   "source": [
    "veg_count = 960\n",
    "tot_pop = 1860\n",
    "\n",
    "p_hat = veg_count / tot_pop\n",
    "print(f\"p_hat : {p_hat}\")\n",
    "\n",
    "alpha = 0.01\n",
    "\n",
    "z_statistic, p_value = proportions_ztest(count=veg_count,\n",
    "                                        nobs=tot_pop,\n",
    "                                        value=0.50,\n",
    "                                        alternative='two-sided') #two tail\n",
    "\n",
    "print(f\"z_statistic : {z_statistic}\")\n",
    "print(f\"p_value : {p_value}\\n\")\n",
    "\n",
    "#universal line\n",
    "if p_value < alpha:\n",
    "    print(\"Reject H0: veg and non are != (veg and non-veg are not 50-50)\")\n",
    "else:\n",
    "    print(\"Accept H0: veg and non are = (veg and non-veg not 50-50)\")"
   ]
  },
  {
   "cell_type": "code",
   "execution_count": 35,
   "id": "000c3d2f",
   "metadata": {},
   "outputs": [
    {
     "name": "stdout",
     "output_type": "stream",
     "text": [
      "p_hat : 0.21505376344086022\n",
      "z_statistic : 0.5304908556659641\n",
      "p_value : 0.5957716474378414\n",
      "\n",
      "Accept H0: veg and non are = (veg and non-veg not 79-21)\n"
     ]
    }
   ],
   "source": [
    "veg_count = 400\n",
    "tot_pop = 1860\n",
    "\n",
    "p_hat = veg_count / tot_pop\n",
    "print(f\"p_hat : {p_hat}\")\n",
    "\n",
    "alpha = 0.01\n",
    "\n",
    "z_statistic, p_value = proportions_ztest(count=veg_count,\n",
    "                                        nobs=tot_pop,\n",
    "                                        value=0.21,\n",
    "                                        alternative='two-sided') #two tail\n",
    "\n",
    "print(f\"z_statistic : {z_statistic}\")\n",
    "print(f\"p_value : {p_value}\\n\")\n",
    "\n",
    "#universal line\n",
    "if p_value < alpha:\n",
    "    print(\"Reject H0: veg and non are != (veg and non-veg are not 79-21)\")\n",
    "else:\n",
    "    print(\"Accept H0: veg and non are = (veg and non-veg not 79-21)\")"
   ]
  },
  {
   "cell_type": "code",
   "execution_count": 36,
   "id": "1031dce7",
   "metadata": {},
   "outputs": [],
   "source": [
    "#f test\n",
    "\n",
    "null : var_dolo = var_crocin (no sig diff btw var of dolo and crocin)\n",
    "alt : var_dolo != var_crocin (sig diff btw var of dolo and crocin)"
   ]
  },
  {
   "cell_type": "code",
   "execution_count": 37,
   "id": "4cb74bb7",
   "metadata": {},
   "outputs": [],
   "source": [
    "from scipy.stats import f\n",
    "import numpy as np"
   ]
  },
  {
   "cell_type": "code",
   "execution_count": 42,
   "id": "e1bdfd11",
   "metadata": {},
   "outputs": [
    {
     "name": "stdout",
     "output_type": "stream",
     "text": [
      "var_dolo : 10.0 ||||| var_crocin: 9.0\n",
      "f_statistic : 1.1111111111111112\n",
      "p_value : 0.8450844722222652\n",
      "Accept H0: var_dolo = var_crocin (no sig diff btw var of dolo and crocin)\n"
     ]
    }
   ],
   "source": [
    "#data\n",
    "n1 = 10\n",
    "n2 = 13\n",
    "x1 = 15\n",
    "x2 = 14\n",
    "ssd1 = 90\n",
    "ssd2 = 108\n",
    "\n",
    "alpha= 0.05 # 5% \n",
    "\n",
    "#variances of the products\n",
    "var_dolo = ssd1 / (n1 - 1)\n",
    "var_crocin = ssd2 / (n2 - 1)\n",
    "print(f\"var_dolo : {var_dolo} ||||| var_crocin: {var_crocin}\")\n",
    "\n",
    "#calc f_stast\n",
    "f_statistic = max(var_dolo,var_crocin)/ min(var_dolo, var_crocin)\n",
    "print(f\"f_statistic : {f_statistic}\")\n",
    "\n",
    "df_dolo = n1 - 1\n",
    "df_crocin = n2 - 1\n",
    "\n",
    "p_value = 2 * (1 - f.cdf(f_statistic, df_dolo, df_crocin))\n",
    "print(f\"p_value : {p_value}\")\n",
    "\n",
    "#universal line\n",
    "if p_value < alpha:\n",
    "    print(\"Reject H0: var_dolo != var_crocin (sig diff btw var of dolo and crocin)\")\n",
    "else:\n",
    "    print(\"Accept H0: var_dolo = var_crocin (no sig diff btw var of dolo and crocin)\")"
   ]
  },
  {
   "cell_type": "code",
   "execution_count": 5,
   "id": "c2f824c7",
   "metadata": {},
   "outputs": [],
   "source": [
    "#ANOVA - one way , two way anova\n",
    "\n",
    "null : fertilizer_A = fertilizer_B = fertilizer_C (there are no sig diff in performance)\n",
    "alt : fertilizer_A != fertilizer_B != fertilizer_C (there are sig diff btw fertilizer perfomance)"
   ]
  },
  {
   "cell_type": "code",
   "execution_count": 10,
   "id": "35da713a",
   "metadata": {},
   "outputs": [
    {
     "name": "stdout",
     "output_type": "stream",
     "text": [
      "f_statistic : 20.235099337748334\n",
      "p_value : 4.269715761720122e-06\n",
      "\n",
      "Reject H0: fertilizer_A != fertilizer_B != fertilizer_C (there are sig diff btw fertilizer perfomance) \n"
     ]
    }
   ],
   "source": [
    "from scipy.stats import f_oneway\n",
    "alpha = 0.05 \n",
    "\n",
    "fertilizer_A = [12, 13, 15, 14, 16, 13, 15, 14, 15, 13] #10 plants 4 growth in cm\n",
    "fertilizer_B = [14, 15, 16, 15, 17, 15, 16, 14, 16, 15]\n",
    "fertilizer_C = [11, 12, 13, 12, 14, 12, 13, 11, 13, 12]\n",
    "\n",
    "f_statistic, p_value = f_oneway(fertilizer_A, fertilizer_B, fertilizer_C)\n",
    "\n",
    "print(f\"f_statistic : {f_statistic}\")\n",
    "print(f\"p_value : {p_value}\\n\")\n",
    "\n",
    "#universal line\n",
    "if p_value < alpha:\n",
    "    print(\"Reject H0: fertilizer_A != fertilizer_B != fertilizer_C (there are sig diff btw fertilizer perfomance) \")\n",
    "else:\n",
    "    print(\"Accept H0: fertilizer_A = fertilizer_B = fertilizer_C (there are no sig diff in performance) \")"
   ]
  },
  {
   "cell_type": "code",
   "execution_count": 15,
   "id": "13ca6998",
   "metadata": {},
   "outputs": [
    {
     "name": "stdout",
     "output_type": "stream",
     "text": [
      "Mean A : 14.0 |||||| Var A : 1.4\n",
      "\n",
      "Mean B : 15.3 |||||| Var B : 0.8099999999999999\n",
      "\n",
      "Mean C : 12.3 |||||| Var C : 0.8099999999999999\n"
     ]
    }
   ],
   "source": [
    "import numpy as np\n",
    "print(f\"Mean A : {np.mean(fertilizer_A)} |||||| Var A : {np.var(fertilizer_A)}\\n\")\n",
    "print(f\"Mean B : {np.mean(fertilizer_B)} |||||| Var B : {np.var(fertilizer_B)}\\n\")\n",
    "print(f\"Mean C : {np.mean(fertilizer_C)} |||||| Var C : {np.var(fertilizer_C)}\")"
   ]
  },
  {
   "cell_type": "code",
   "execution_count": 17,
   "id": "4f35564c",
   "metadata": {},
   "outputs": [],
   "source": [
    "#two way anova\n",
    "import pandas as pd\n",
    "from statsmodels.formula.api import ols\n",
    "from statsmodels.stats.anova import anova_lm"
   ]
  },
  {
   "cell_type": "code",
   "execution_count": 19,
   "id": "9591ed93",
   "metadata": {},
   "outputs": [
    {
     "data": {
      "text/html": [
       "<div>\n",
       "<style scoped>\n",
       "    .dataframe tbody tr th:only-of-type {\n",
       "        vertical-align: middle;\n",
       "    }\n",
       "\n",
       "    .dataframe tbody tr th {\n",
       "        vertical-align: top;\n",
       "    }\n",
       "\n",
       "    .dataframe thead th {\n",
       "        text-align: right;\n",
       "    }\n",
       "</style>\n",
       "<table border=\"1\" class=\"dataframe\">\n",
       "  <thead>\n",
       "    <tr style=\"text-align: right;\">\n",
       "      <th></th>\n",
       "      <th>gender</th>\n",
       "      <th>education_level</th>\n",
       "      <th>income</th>\n",
       "    </tr>\n",
       "  </thead>\n",
       "  <tbody>\n",
       "    <tr>\n",
       "      <th>0</th>\n",
       "      <td>male</td>\n",
       "      <td>hs</td>\n",
       "      <td>30000</td>\n",
       "    </tr>\n",
       "    <tr>\n",
       "      <th>1</th>\n",
       "      <td>female</td>\n",
       "      <td>bach</td>\n",
       "      <td>50000</td>\n",
       "    </tr>\n",
       "    <tr>\n",
       "      <th>2</th>\n",
       "      <td>male</td>\n",
       "      <td>bach</td>\n",
       "      <td>45000</td>\n",
       "    </tr>\n",
       "    <tr>\n",
       "      <th>3</th>\n",
       "      <td>female</td>\n",
       "      <td>mas</td>\n",
       "      <td>60000</td>\n",
       "    </tr>\n",
       "    <tr>\n",
       "      <th>4</th>\n",
       "      <td>male</td>\n",
       "      <td>hs</td>\n",
       "      <td>32000</td>\n",
       "    </tr>\n",
       "    <tr>\n",
       "      <th>5</th>\n",
       "      <td>female</td>\n",
       "      <td>bach</td>\n",
       "      <td>55000</td>\n",
       "    </tr>\n",
       "    <tr>\n",
       "      <th>6</th>\n",
       "      <td>male</td>\n",
       "      <td>mas</td>\n",
       "      <td>48000</td>\n",
       "    </tr>\n",
       "    <tr>\n",
       "      <th>7</th>\n",
       "      <td>female</td>\n",
       "      <td>hs</td>\n",
       "      <td>33000</td>\n",
       "    </tr>\n",
       "    <tr>\n",
       "      <th>8</th>\n",
       "      <td>male</td>\n",
       "      <td>bach</td>\n",
       "      <td>52000</td>\n",
       "    </tr>\n",
       "    <tr>\n",
       "      <th>9</th>\n",
       "      <td>female</td>\n",
       "      <td>mas</td>\n",
       "      <td>47000</td>\n",
       "    </tr>\n",
       "  </tbody>\n",
       "</table>\n",
       "</div>"
      ],
      "text/plain": [
       "   gender education_level  income\n",
       "0    male              hs   30000\n",
       "1  female            bach   50000\n",
       "2    male            bach   45000\n",
       "3  female             mas   60000\n",
       "4    male              hs   32000\n",
       "5  female            bach   55000\n",
       "6    male             mas   48000\n",
       "7  female              hs   33000\n",
       "8    male            bach   52000\n",
       "9  female             mas   47000"
      ]
     },
     "execution_count": 19,
     "metadata": {},
     "output_type": "execute_result"
    }
   ],
   "source": [
    "data = {\n",
    "    \"gender\":[\"male\",\"female\",\"male\",\"female\",\"male\",\"female\",\n",
    "             \"male\",\"female\",\"male\",\"female\"],\n",
    "    \"education_level\":[\"hs\",\"bach\",\"bach\",\"mas\",\"hs\",\"bach\",\"mas\",\n",
    "                      \"hs\",\"bach\",\"mas\"],\n",
    "    \"income\":[30000, 50000, 45000, 60000, 32000, 55000,48000,33000,\n",
    "             52000, 47000]   \n",
    "}\n",
    "df = pd.DataFrame(data)\n",
    "df"
   ]
  },
  {
   "cell_type": "code",
   "execution_count": 21,
   "id": "f596f28b",
   "metadata": {},
   "outputs": [
    {
     "data": {
      "text/plain": [
       "<statsmodels.regression.linear_model.RegressionResultsWrapper at 0x30261d650>"
      ]
     },
     "execution_count": 21,
     "metadata": {},
     "output_type": "execute_result"
    }
   ],
   "source": [
    "model = ols(\"income ~ gender + education_level + gender:education_level\",\n",
    "           data=df).fit()\n",
    "model"
   ]
  },
  {
   "cell_type": "code",
   "execution_count": 22,
   "id": "f7df00b6",
   "metadata": {},
   "outputs": [
    {
     "data": {
      "text/html": [
       "<div>\n",
       "<style scoped>\n",
       "    .dataframe tbody tr th:only-of-type {\n",
       "        vertical-align: middle;\n",
       "    }\n",
       "\n",
       "    .dataframe tbody tr th {\n",
       "        vertical-align: top;\n",
       "    }\n",
       "\n",
       "    .dataframe thead th {\n",
       "        text-align: right;\n",
       "    }\n",
       "</style>\n",
       "<table border=\"1\" class=\"dataframe\">\n",
       "  <thead>\n",
       "    <tr style=\"text-align: right;\">\n",
       "      <th></th>\n",
       "      <th>df</th>\n",
       "      <th>sum_sq</th>\n",
       "      <th>mean_sq</th>\n",
       "      <th>F</th>\n",
       "      <th>PR(&gt;F)</th>\n",
       "    </tr>\n",
       "  </thead>\n",
       "  <tbody>\n",
       "    <tr>\n",
       "      <th>gender</th>\n",
       "      <td>1.0</td>\n",
       "      <td>1.444000e+08</td>\n",
       "      <td>1.444000e+08</td>\n",
       "      <td>4.676923</td>\n",
       "      <td>0.096605</td>\n",
       "    </tr>\n",
       "    <tr>\n",
       "      <th>education_level</th>\n",
       "      <td>2.0</td>\n",
       "      <td>6.775810e+08</td>\n",
       "      <td>3.387905e+08</td>\n",
       "      <td>10.972971</td>\n",
       "      <td>0.023767</td>\n",
       "    </tr>\n",
       "    <tr>\n",
       "      <th>gender:education_level</th>\n",
       "      <td>2.0</td>\n",
       "      <td>4.119048e+06</td>\n",
       "      <td>2.059524e+06</td>\n",
       "      <td>0.066705</td>\n",
       "      <td>0.936490</td>\n",
       "    </tr>\n",
       "    <tr>\n",
       "      <th>Residual</th>\n",
       "      <td>4.0</td>\n",
       "      <td>1.235000e+08</td>\n",
       "      <td>3.087500e+07</td>\n",
       "      <td>NaN</td>\n",
       "      <td>NaN</td>\n",
       "    </tr>\n",
       "  </tbody>\n",
       "</table>\n",
       "</div>"
      ],
      "text/plain": [
       "                         df        sum_sq       mean_sq          F    PR(>F)\n",
       "gender                  1.0  1.444000e+08  1.444000e+08   4.676923  0.096605\n",
       "education_level         2.0  6.775810e+08  3.387905e+08  10.972971  0.023767\n",
       "gender:education_level  2.0  4.119048e+06  2.059524e+06   0.066705  0.936490\n",
       "Residual                4.0  1.235000e+08  3.087500e+07        NaN       NaN"
      ]
     },
     "execution_count": 22,
     "metadata": {},
     "output_type": "execute_result"
    }
   ],
   "source": [
    "anova_lm(model)"
   ]
  },
  {
   "cell_type": "code",
   "execution_count": 24,
   "id": "75629c54",
   "metadata": {},
   "outputs": [
    {
     "data": {
      "text/plain": [
       "6.3"
      ]
     },
     "execution_count": 24,
     "metadata": {},
     "output_type": "execute_result"
    }
   ],
   "source": [
    "#chi 2 analysis\n",
    "\n",
    "observed = [23, 16, 14, 19, 28]\n",
    "expected = [20, 20, 20, 20, 20]\n",
    "\n",
    "chi2_stats = 0\n",
    "#type-1\n",
    "for observed_val, expected_val in zip(observed,expected):\n",
    "    chi2_stats += ((observed_val-expected_val)**2)/expected_val\n",
    "chi2_stats\n",
    "\n",
    "#type-2 ddof\n",
    "observed = np.array([23, 16, 14, 19, 28])\n",
    "expected = np.array([20, 20, 20, 20, 20])\n",
    "\n",
    "chi2_stats = np.sum((observed - expected)**2/expected)\n",
    "chi2_stats"
   ]
  },
  {
   "cell_type": "code",
   "execution_count": 26,
   "id": "138774bf",
   "metadata": {},
   "outputs": [
    {
     "data": {
      "text/plain": [
       "9.487729036781154"
      ]
     },
     "execution_count": 26,
     "metadata": {},
     "output_type": "execute_result"
    }
   ],
   "source": [
    "#Critical value \n",
    "from scipy.stats import chi2\n",
    "df = 4\n",
    "alpha =0.05 \n",
    "criticl_Value = chi2.ppf(1-alpha, df)\n",
    "criticl_Value"
   ]
  },
  {
   "cell_type": "code",
   "execution_count": 28,
   "id": "3aac3aad",
   "metadata": {},
   "outputs": [
    {
     "name": "stdout",
     "output_type": "stream",
     "text": [
      "p_value : 0.1778363264982168\n",
      "Accept H0: Ob = Exp ; purchase the restaurant\n"
     ]
    }
   ],
   "source": [
    "p_value = 1 - chi2.cdf(chi2_stats, df)\n",
    "print(f\"p_value : {p_value}\")\n",
    "\n",
    "\n",
    "if p_value < alpha:\n",
    "    print(\"Reject H0: Ob != Exp ; do not purchase the restaurant \")\n",
    "else:\n",
    "    print(\"Accept H0: Ob = Exp ; purchase the restaurant\")"
   ]
  },
  {
   "cell_type": "code",
   "execution_count": 29,
   "id": "46b4eb9a",
   "metadata": {},
   "outputs": [
    {
     "data": {
      "text/html": [
       "<div>\n",
       "<style scoped>\n",
       "    .dataframe tbody tr th:only-of-type {\n",
       "        vertical-align: middle;\n",
       "    }\n",
       "\n",
       "    .dataframe tbody tr th {\n",
       "        vertical-align: top;\n",
       "    }\n",
       "\n",
       "    .dataframe thead th {\n",
       "        text-align: right;\n",
       "    }\n",
       "</style>\n",
       "<table border=\"1\" class=\"dataframe\">\n",
       "  <thead>\n",
       "    <tr style=\"text-align: right;\">\n",
       "      <th></th>\n",
       "      <th>Customer_ID</th>\n",
       "      <th>Cafe_Name</th>\n",
       "      <th>Rating</th>\n",
       "      <th>Coffee_Temp</th>\n",
       "      <th>Coffee_Type</th>\n",
       "    </tr>\n",
       "  </thead>\n",
       "  <tbody>\n",
       "    <tr>\n",
       "      <th>0</th>\n",
       "      <td>1</td>\n",
       "      <td>Brewtopia</td>\n",
       "      <td>4.5</td>\n",
       "      <td>70</td>\n",
       "      <td>Latte</td>\n",
       "    </tr>\n",
       "    <tr>\n",
       "      <th>1</th>\n",
       "      <td>2</td>\n",
       "      <td>Cafe Java</td>\n",
       "      <td>3.8</td>\n",
       "      <td>65</td>\n",
       "      <td>Cappuccino</td>\n",
       "    </tr>\n",
       "    <tr>\n",
       "      <th>2</th>\n",
       "      <td>3</td>\n",
       "      <td>Espresso Express</td>\n",
       "      <td>4.2</td>\n",
       "      <td>68</td>\n",
       "      <td>Espresso</td>\n",
       "    </tr>\n",
       "    <tr>\n",
       "      <th>3</th>\n",
       "      <td>4</td>\n",
       "      <td>Brewtopia</td>\n",
       "      <td>4.8</td>\n",
       "      <td>71</td>\n",
       "      <td>Latte</td>\n",
       "    </tr>\n",
       "  </tbody>\n",
       "</table>\n",
       "</div>"
      ],
      "text/plain": [
       "   Customer_ID         Cafe_Name  Rating  Coffee_Temp Coffee_Type\n",
       "0            1         Brewtopia     4.5           70       Latte\n",
       "1            2         Cafe Java     3.8           65  Cappuccino\n",
       "2            3  Espresso Express     4.2           68    Espresso\n",
       "3            4         Brewtopia     4.8           71       Latte"
      ]
     },
     "execution_count": 29,
     "metadata": {},
     "output_type": "execute_result"
    }
   ],
   "source": [
    "df = pd.read_csv(\"./coffee_wars.csv\")\n",
    "df.head(4)"
   ]
  },
  {
   "cell_type": "code",
   "execution_count": 33,
   "id": "0162104e",
   "metadata": {},
   "outputs": [
    {
     "data": {
      "text/plain": [
       "(30, 5)"
      ]
     },
     "execution_count": 33,
     "metadata": {},
     "output_type": "execute_result"
    }
   ],
   "source": [
    "df.shape"
   ]
  },
  {
   "cell_type": "code",
   "execution_count": 31,
   "id": "a4ef0902",
   "metadata": {},
   "outputs": [
    {
     "data": {
      "text/plain": [
       "Cafe_Name\n",
       "Brewtopia           10\n",
       "Cafe Java           10\n",
       "Espresso Express    10\n",
       "Name: count, dtype: int64"
      ]
     },
     "execution_count": 31,
     "metadata": {},
     "output_type": "execute_result"
    }
   ],
   "source": [
    "df.Cafe_Name.value_counts()\n",
    "# Brewtopia - mugesh\n",
    "# Cafe Java - ravi\n",
    "# vaibhav - Espresso Express"
   ]
  },
  {
   "cell_type": "markdown",
   "id": "0ac98e31",
   "metadata": {},
   "source": [
    "## compare brewtopia and cafe java ratings"
   ]
  },
  {
   "cell_type": "code",
   "execution_count": 36,
   "id": "b40f3302",
   "metadata": {},
   "outputs": [],
   "source": [
    "\n",
    "brewtopia_ratings = df[df['Cafe_Name']==\"Brewtopia\"][\"Rating\"]\n",
    "java_ratings = df[df['Cafe_Name']==\"Cafe Java\"][\"Rating\"]"
   ]
  },
  {
   "cell_type": "code",
   "execution_count": 37,
   "id": "d479b1f1",
   "metadata": {},
   "outputs": [
    {
     "name": "stdout",
     "output_type": "stream",
     "text": [
      "Accept H0 : bre = jav (no sig diff in ratings)\n"
     ]
    }
   ],
   "source": [
    "from scipy import stats\n",
    "\n",
    "# null : bre = jav (no sig diff in ratings)\n",
    "# alt: bre != jav (sig diff in ratings)\n",
    "\n",
    "t_stat, p_val = stats.ttest_ind(brewtopia_ratings,java_ratings)\n",
    "\n",
    "alpha = 0.05\n",
    "if p_value < alpha:\n",
    "    print(\"Reject H0 : bre != jav (sig diff in ratings)\")\n",
    "else:\n",
    "    print(\"Accept H0 : bre = jav (no sig diff in ratings)\")"
   ]
  },
  {
   "cell_type": "code",
   "execution_count": 41,
   "id": "030c8aa1",
   "metadata": {},
   "outputs": [],
   "source": [
    "# variance ratings brewtopia and espre ex\n",
    "\n",
    "exp_rating = df[df['Cafe_Name']==\"Espresso Express\"][\"Rating\"]"
   ]
  },
  {
   "cell_type": "code",
   "execution_count": 44,
   "id": "467c92fe",
   "metadata": {},
   "outputs": [
    {
     "name": "stdout",
     "output_type": "stream",
     "text": [
      "brewtopia_var : 0.038222222222222275\n",
      "exp_var: 0.017333333333333353\n",
      "f_stat  : 2.2051282051282057\n",
      "Reject H0 : bretopis != esp exp sig diff\n"
     ]
    }
   ],
   "source": [
    "brewtopia_var = np.var(brewtopia_ratings, ddof=1)\n",
    "exp_var = np.var(exp_rating, ddof=1)\n",
    "\n",
    "print(f\"brewtopia_var : {brewtopia_var}\")\n",
    "print(f\"exp_var: {exp_var}\")\n",
    "\n",
    "dfn, dfd = len(brewtopia_ratings)-1, len(exp_rating)-1\n",
    "\n",
    "f_stat = max(brewtopia_var,exp_var)/min(brewtopia_var,exp_var)\n",
    "print(f\"f_stat  : {f_stat}\")\n",
    "\n",
    "#one. tail \n",
    "p_value = 1 - stats.f.cdf(f_statistic, dfn, dfd)\n",
    "\n",
    "if p_value < alpha:\n",
    "    print(\"Reject H0 : bretopis != esp exp sig diff\")\n",
    "else:\n",
    "    print(\"Accept H0 : bretopis = esp exp sig diff\")"
   ]
  },
  {
   "cell_type": "code",
   "execution_count": 46,
   "id": "9e4e1623",
   "metadata": {},
   "outputs": [],
   "source": [
    "# all the cafe\n",
    "# brewtopia_ratings\n",
    "# java_ratings\n",
    "# exp_rating\n",
    "\n",
    "null : brewtopia = cafe jave = espresso exp (similar)\n",
    "alt : brewtopia != cafe jave != espresso exp  (one cafe )"
   ]
  },
  {
   "cell_type": "code",
   "execution_count": 49,
   "id": "3ce210c9",
   "metadata": {},
   "outputs": [
    {
     "name": "stdout",
     "output_type": "stream",
     "text": [
      "f_stat: 83.55154639175262\n",
      "p_value : 2.722529966514772e-12\n",
      "Reject H0 : brewtopia != cafe jave != espresso exp  (one cafe )\n"
     ]
    }
   ],
   "source": [
    "f_stat, p_value = f_oneway(brewtopia_ratings,java_ratings,exp_rating)\n",
    "print(f\"f_stat: {f_stat}\")\n",
    "print(f\"p_value : {p_value}\")\n",
    "\n",
    "if p_value < alpha:\n",
    "    print(\"Reject H0 : brewtopia != cafe jave != espresso exp  (one cafe )\")\n",
    "else:\n",
    "    print(\"Accept H0 : brewtopia = cafe jave = espresso exp (similar)\")"
   ]
  },
  {
   "cell_type": "code",
   "execution_count": 50,
   "id": "8dc960d7",
   "metadata": {},
   "outputs": [
    {
     "data": {
      "text/plain": [
       "4.66"
      ]
     },
     "execution_count": 50,
     "metadata": {},
     "output_type": "execute_result"
    }
   ],
   "source": [
    "np.mean(brewtopia_ratings)"
   ]
  },
  {
   "cell_type": "code",
   "execution_count": 51,
   "id": "6a16d6b6",
   "metadata": {},
   "outputs": [
    {
     "data": {
      "text/plain": [
       "3.6799999999999997"
      ]
     },
     "execution_count": 51,
     "metadata": {},
     "output_type": "execute_result"
    }
   ],
   "source": [
    "np.mean(java_ratings)"
   ]
  },
  {
   "cell_type": "code",
   "execution_count": 52,
   "id": "855dc08f",
   "metadata": {},
   "outputs": [
    {
     "data": {
      "text/plain": [
       "4.18"
      ]
     },
     "execution_count": 52,
     "metadata": {},
     "output_type": "execute_result"
    }
   ],
   "source": [
    "np.mean(exp_rating)"
   ]
  },
  {
   "cell_type": "code",
   "execution_count": 53,
   "id": "264318d6",
   "metadata": {},
   "outputs": [],
   "source": [
    "x = [3,4,5,6,7,8]\n",
    "x_bar = np.mean(x)"
   ]
  },
  {
   "cell_type": "code",
   "execution_count": 54,
   "id": "3b5a291b",
   "metadata": {},
   "outputs": [
    {
     "data": {
      "text/plain": [
       "2.9166666666666665"
      ]
     },
     "execution_count": 54,
     "metadata": {},
     "output_type": "execute_result"
    }
   ],
   "source": [
    "np.var(x)   #divide by n - pop var"
   ]
  },
  {
   "cell_type": "code",
   "execution_count": 55,
   "id": "86d9bdfc",
   "metadata": {},
   "outputs": [
    {
     "data": {
      "text/plain": [
       "3.5"
      ]
     },
     "execution_count": 55,
     "metadata": {},
     "output_type": "execute_result"
    }
   ],
   "source": [
    "np.var(x,ddof=1) # divin by n-1 sample var"
   ]
  },
  {
   "cell_type": "code",
   "execution_count": null,
   "id": "48bb5ed4",
   "metadata": {},
   "outputs": [],
   "source": []
  }
 ],
 "metadata": {
  "kernelspec": {
   "display_name": "Python 3 (ipykernel)",
   "language": "python",
   "name": "python3"
  },
  "language_info": {
   "codemirror_mode": {
    "name": "ipython",
    "version": 3
   },
   "file_extension": ".py",
   "mimetype": "text/x-python",
   "name": "python",
   "nbconvert_exporter": "python",
   "pygments_lexer": "ipython3",
   "version": "3.11.4"
  }
 },
 "nbformat": 4,
 "nbformat_minor": 5
}
