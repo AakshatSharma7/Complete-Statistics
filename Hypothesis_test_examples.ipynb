{
  "cells": [
    {
      "cell_type": "markdown",
      "source": [
        "**Question**\n",
        "A company claims their energy drinks contain an average of 80mg of caffeine. A researcher tests 10 drinks and gets the following caffeine content (in mg): [78, 82, 85, 79, 81, 83, 80, 77, 84, 81]. Is there evidence to suggest the true average differs from 80mg?\n"
      ],
      "metadata": {
        "id": "tDuW1NC5uYz-"
      },
      "id": "tDuW1NC5uYz-"
    },
    {
      "cell_type": "code",
      "execution_count": 2,
      "id": "66b05360",
      "metadata": {
        "id": "66b05360",
        "outputId": "b0661cec-e225-4dd6-9cc4-f29627396c78",
        "colab": {
          "base_uri": "https://localhost:8080/"
        }
      },
      "outputs": [
        {
          "output_type": "stream",
          "name": "stdout",
          "text": [
            "Example 1: One-sample t-test (two-tailed)\n",
            "T-statistic: 1.2247, p-value: 0.2518\n",
            "Conclusion: Fail to reject the null hypothesis.\n"
          ]
        }
      ],
      "source": [
        "import numpy as np\n",
        "from scipy import stats\n",
        "\n",
        "# Example 1: One-sample t-test (two-tailed)\n",
        "print(\"Example 1: One-sample t-test (two-tailed)\")\n",
        "\n",
        "caffeine_content = [78, 82, 85, 79, 81, 83, 80, 77, 84, 81]\n",
        "t_statistic, p_value = stats.ttest_1samp(caffeine_content, popmean=80)\n",
        "print(f\"T-statistic: {t_statistic:.4f}, p-value: {p_value:.4f}\")\n",
        "print(f\"Conclusion: {'Reject' if p_value < 0.05 else 'Fail to reject'} the null hypothesis.\")"
      ]
    },
    {
      "cell_type": "markdown",
      "source": [
        "Question: A researcher wants to know if there's a difference in the average number of hours spent on social media between two age groups: 18-25 and 26-35. The data collected is as follows:\n",
        "18-25 age group: [3.5, 4.2, 3.8, 4.5, 3.9, 4.1, 4.3]\n",
        "26-35 age group: [2.8, 3.1, 3.5, 3.2, 2.9, 3.4, 3.0]\n",
        "Is there a significant difference in social media usage between these age groups?"
      ],
      "metadata": {
        "id": "0zyGUJNwuxVx"
      },
      "id": "0zyGUJNwuxVx"
    },
    {
      "cell_type": "code",
      "execution_count": 3,
      "id": "332464cd",
      "metadata": {
        "id": "332464cd",
        "outputId": "002324f7-ea7b-4bb9-9aca-476ddddc0cf6",
        "colab": {
          "base_uri": "https://localhost:8080/"
        }
      },
      "outputs": [
        {
          "output_type": "stream",
          "name": "stdout",
          "text": [
            "\n",
            "Example 2: Independent two-sample t-test (two-tailed)\n",
            "T-statistic: 5.7243, p-value: 0.0001\n",
            "Conclusion: Reject the null hypothesis.\n"
          ]
        }
      ],
      "source": [
        "# Example 2: Independent two-sample t-test (two-tailed)\n",
        "print(\"\\nExample 2: Independent two-sample t-test (two-tailed)\")\n",
        "\n",
        "\n",
        "group_18_25 = [3.5, 4.2, 3.8, 4.5, 3.9, 4.1, 4.3]\n",
        "group_26_35 = [2.8, 3.1, 3.5, 3.2, 2.9, 3.4, 3.0]\n",
        "t_statistic, p_value = stats.ttest_ind(group_18_25, group_26_35)\n",
        "print(f\"T-statistic: {t_statistic:.4f}, p-value: {p_value:.4f}\")\n",
        "print(f\"Conclusion: {'Reject' if p_value < 0.05 else 'Fail to reject'} the null hypothesis.\")"
      ]
    },
    {
      "cell_type": "markdown",
      "source": [
        "Question: A fitness instructor wants to know if her new training program significantly improves her clients' 5km run times. She records the run times (in minutes) of 6 clients before and after the 8-week program:\n",
        "Before: [25.5, 23.8, 26.2, 24.9, 25.1, 24.5]\n",
        "After:  [24.2, 22.9, 25.1, 23.7, 24.0, 23.2]\n",
        "Is there a significant improvement in run times?"
      ],
      "metadata": {
        "id": "SeBtFGIPu5uR"
      },
      "id": "SeBtFGIPu5uR"
    },
    {
      "cell_type": "code",
      "execution_count": 4,
      "id": "2c6e0dca",
      "metadata": {
        "id": "2c6e0dca",
        "outputId": "f48de341-58af-4e53-a43c-3aa1d8a44f29",
        "colab": {
          "base_uri": "https://localhost:8080/"
        }
      },
      "outputs": [
        {
          "output_type": "stream",
          "name": "stdout",
          "text": [
            "\n",
            "Example 3: Paired t-test (two-tailed)\n",
            "T-statistic: 18.5742, p-value: 0.0000\n",
            "Conclusion: Reject the null hypothesis.\n"
          ]
        }
      ],
      "source": [
        "# Example 3: Paired t-test (two-tailed)\n",
        "print(\"\\nExample 3: Paired t-test (two-tailed)\")\n",
        "\n",
        "before = [25.5, 23.8, 26.2, 24.9, 25.1, 24.5]\n",
        "after = [24.2, 22.9, 25.1, 23.7, 24.0, 23.2]\n",
        "t_statistic, p_value = stats.ttest_rel(before, after)\n",
        "print(f\"T-statistic: {t_statistic:.4f}, p-value: {p_value:.4f}\")\n",
        "print(f\"Conclusion: {'Reject' if p_value < 0.05 else 'Fail to reject'} the null hypothesis.\")\n"
      ]
    },
    {
      "cell_type": "markdown",
      "source": [
        "Question: A school district claims that their students score above the national average (500) on a standardized test. A sample of 8 students from this district scored: [510, 525, 495, 530, 515, 520, 505, 500]. Is there evidence to support the district's claim?\n"
      ],
      "metadata": {
        "id": "BlColFpEvJeu"
      },
      "id": "BlColFpEvJeu"
    },
    {
      "cell_type": "code",
      "execution_count": 5,
      "id": "6215a471",
      "metadata": {
        "id": "6215a471",
        "outputId": "ad9ff662-5b82-4c4a-e05a-d19c57b20394",
        "colab": {
          "base_uri": "https://localhost:8080/"
        }
      },
      "outputs": [
        {
          "output_type": "stream",
          "name": "stdout",
          "text": [
            "T-statistic: 2.8868, one-tailed p-value: 0.0117\n",
            "Conclusion: Reject the null hypothesis.\n"
          ]
        }
      ],
      "source": [
        "# Example 4: One-sample t-test (one-tailed, greater)\n",
        "\n",
        "scores = [510, 525, 495, 530, 515, 520, 505, 500]\n",
        "t_statistic, p_value_two_tailed = stats.ttest_1samp(scores, popmean=500)\n",
        "p_value_one_tailed = p_value_two_tailed / 2  # Divide by 2 for one-tailed testprint(\"Question: A school district claims that their students score above the national average (500\n",
        "print(f\"T-statistic: {t_statistic:.4f}, one-tailed p-value: {p_value_one_tailed:.4f}\")\n",
        "print(f\"Conclusion: {'Reject' if p_value_one_tailed < 0.05 else 'Fail to reject'} the null hypothesis.\")\n"
      ]
    },
    {
      "cell_type": "markdown",
      "source": [
        "**Question**\n",
        "A company has developed a new typing course and wants to know if it reduces typing errors compared to their standard course. They measure the number of errors made in a 5-minute typing test for both groups:\n",
        "Standard course: [12, 10, 14, 15, 11, 13, 9]\n",
        "New course: [8, 11, 9, 10, 7, 12, 9]\n",
        "Is there evidence that the new course results in fewer typing errors?"
      ],
      "metadata": {
        "id": "C_GUshFIvngV"
      },
      "id": "C_GUshFIvngV"
    },
    {
      "cell_type": "code",
      "execution_count": 6,
      "id": "e30e5889",
      "metadata": {
        "id": "e30e5889",
        "outputId": "e1ac527c-a9fe-4d09-c493-68c7723ede76",
        "colab": {
          "base_uri": "https://localhost:8080/"
        }
      },
      "outputs": [
        {
          "output_type": "stream",
          "name": "stdout",
          "text": [
            "T-statistic: 2.4648, one-tailed p-value: 0.0149\n",
            "Conclusion: Reject the null hypothesis.\n"
          ]
        }
      ],
      "source": [
        "# Example 5: Independent two-sample t-test (one-tailed, less)\n",
        "\n",
        "standard_course = [12, 10, 14, 15, 11, 13, 9]\n",
        "new_course = [8, 11, 9, 10, 7, 12, 9]\n",
        "t_statistic, p_value_two_tailed = stats.ttest_ind(standard_course, new_course)\n",
        "p_value_one_tailed = p_value_two_tailed / 2  # Divide by 2 for one-tailed test\n",
        "print(f\"T-statistic: {t_statistic:.4f}, one-tailed p-value: {p_value_one_tailed:.4f}\")\n",
        "print(f\"Conclusion: {'Reject' if p_value_one_tailed < 0.05 else 'Fail to reject'} the null hypothesis.\")"
      ]
    },
    {
      "cell_type": "code",
      "execution_count": 8,
      "id": "216367ee",
      "metadata": {
        "id": "216367ee"
      },
      "outputs": [],
      "source": [
        "import numpy as np\n",
        "from scipy import stats\n",
        "\n",
        "# Function to perform a one-sample or two-sample Z-test\n",
        "def z_test(sample, population_mean, population_std, alternative='two-sided'):\n",
        "    n = len(sample)\n",
        "    sample_mean = np.mean(sample)\n",
        "    z_stat = (sample_mean - population_mean) / (population_std / np.sqrt(n))\n",
        "\n",
        "    # Determine the p-value based on the type of test\n",
        "    if alternative == 'two-sided':\n",
        "        p_value = 2 * (1 - stats.norm.cdf(abs(z_stat)))\n",
        "    elif alternative == 'less':\n",
        "        p_value = stats.norm.cdf(z_stat)\n",
        "    elif alternative == 'greater':\n",
        "        p_value = 1 - stats.norm.cdf(z_stat)\n",
        "\n",
        "    return z_stat, p_value"
      ]
    },
    {
      "cell_type": "markdown",
      "source": [
        "Question: A company claims their new energy drink increases reaction times to be faster than the population average of 250 milliseconds. They test 50 individuals and find a mean reaction time of 240 ms with a known population standard deviation of 40 ms. Is there evidence to support the company's claim?\n"
      ],
      "metadata": {
        "id": "gZILMacYv2cD"
      },
      "id": "gZILMacYv2cD"
    },
    {
      "cell_type": "code",
      "execution_count": 9,
      "id": "be9856e8",
      "metadata": {
        "id": "be9856e8",
        "outputId": "5417eb4d-9cc0-4e05-953e-500fe61666ba",
        "colab": {
          "base_uri": "https://localhost:8080/"
        }
      },
      "outputs": [
        {
          "output_type": "stream",
          "name": "stdout",
          "text": [
            "Example 1: One-sample z-test (one-tailed, greater)\n",
            "Question: A company claims their new energy drink increases reaction times to be faster than the population average of 250 milliseconds. They test 50 individuals and find a mean reaction time of 240 ms with a known population standard deviation of 40 ms. Is there evidence to support the company's claim?\n",
            "Z-statistic: -3.0807, one-tailed p-value: 0.9990\n",
            "Conclusion: Fail to reject the null hypothesis.\n",
            "Interpretation: There is not significant evidence to support the company's claim.\n"
          ]
        }
      ],
      "source": [
        "# Example 1: One-sample z-test (one-tailed, greater)\n",
        "print(\"Example 1: One-sample z-test (one-tailed, greater)\")\n",
        "print(\"Question: A company claims their new energy drink increases reaction times to be faster than the population average of 250 milliseconds. They test 50 individuals and find a mean reaction time of 240 ms with a known population standard deviation of 40 ms. Is there evidence to support the company's claim?\")\n",
        "\n",
        "# Corrected: alternative='greater' because we are testing for faster reaction times (mean < population mean)\n",
        "sample = np.random.normal(240, 40, 50)  # Simulating 50 samples with mean 240 and std 40\n",
        "population_mean = 250\n",
        "population_std = 40\n",
        "\n",
        "z_stat, p_value = z_test(sample, population_mean, population_std, alternative='greater')\n",
        "print(f\"Z-statistic: {z_stat:.4f}, one-tailed p-value: {p_value:.4f}\")\n",
        "print(f\"Conclusion: {'Reject' if p_value < 0.05 else 'Fail to reject'} the null hypothesis.\")\n",
        "print(f\"Interpretation: {'There is' if p_value < 0.05 else 'There is not'} significant evidence to support the company's claim.\")"
      ]
    },
    {
      "cell_type": "markdown",
      "source": [
        "Question: A factory claims their light bulbs last an average of 10,000 hours with a standard deviation of 500 hours. A consumer group tests 100 bulbs and finds they last an average of 9,800 hours. Is there evidence to suggest the true average differs from the claim?\n"
      ],
      "metadata": {
        "id": "IkkufnIPv_eF"
      },
      "id": "IkkufnIPv_eF"
    },
    {
      "cell_type": "code",
      "execution_count": 10,
      "id": "5ca6286d",
      "metadata": {
        "id": "5ca6286d",
        "outputId": "bc5ca307-e4b9-4b7f-ca0f-d68dd8716065",
        "colab": {
          "base_uri": "https://localhost:8080/"
        }
      },
      "outputs": [
        {
          "output_type": "stream",
          "name": "stdout",
          "text": [
            "\n",
            "Example 2: One-sample z-test (two-tailed)\n",
            "Z-statistic: -4.0000, two-tailed p-value: 0.0001\n",
            "Conclusion: Reject the null hypothesis.\n",
            "Interpretation: There is significant evidence to suggest the true average differs from the claim.\n"
          ]
        }
      ],
      "source": [
        "# Example 2: One-sample z-test (two-tailed)\n",
        "print(\"\\nExample 2: One-sample z-test (two-tailed)\")\n",
        "\n",
        "sample_mean = 9800\n",
        "n = 100\n",
        "population_mean = 10000\n",
        "population_std = 500\n",
        "\n",
        "z_stat, p_value = z_test([sample_mean] * n, population_mean, population_std)\n",
        "print(f\"Z-statistic: {z_stat:.4f}, two-tailed p-value: {p_value:.4f}\")\n",
        "print(f\"Conclusion: {'Reject' if p_value < 0.05 else 'Fail to reject'} the null hypothesis.\")\n",
        "print(f\"Interpretation: There {'is' if p_value < 0.05 else 'is not'} significant evidence to suggest the true average differs from the claim.\")"
      ]
    },
    {
      "cell_type": "markdown",
      "source": [
        "Question: A diet program claims to help people lose more than 10 pounds on average over a month. A study of 75 participants showed an average weight loss of 9.5 pounds with a known population standard deviation of 3.5 pounds. Is there evidence against the program's claim?\n"
      ],
      "metadata": {
        "id": "Si8_zilUwbAt"
      },
      "id": "Si8_zilUwbAt"
    },
    {
      "cell_type": "code",
      "execution_count": 11,
      "id": "11ade3f7",
      "metadata": {
        "id": "11ade3f7",
        "outputId": "c5c980ba-8dca-46ab-ad66-fe6ce1446abc",
        "colab": {
          "base_uri": "https://localhost:8080/"
        }
      },
      "outputs": [
        {
          "output_type": "stream",
          "name": "stdout",
          "text": [
            "\n",
            "Example 3: One-sample z-test (one-tailed, less)\n",
            "Question: A diet program claims to help people lose more than 10 pounds on average over a month. A study of 75 participants showed an average weight loss of 9.5 pounds with a known population standard deviation of 3.5 pounds. Is there evidence against the program's claim?\n",
            "Z-statistic: -2.0661, one-tailed p-value: 0.0194\n",
            "Conclusion: Reject the null hypothesis.\n",
            "Interpretation: There is significant evidence against the program's claim.\n"
          ]
        }
      ],
      "source": [
        "# Example 3: One-sample z-test (one-tailed, less)\n",
        "print(\"\\nExample 3: One-sample z-test (one-tailed, less)\")\n",
        "print(\"Question: A diet program claims to help people lose more than 10 pounds on average over a month. A study of 75 participants showed an average weight loss of 9.5 pounds with a known population standard deviation of 3.5 pounds. Is there evidence against the program's claim?\")\n",
        "\n",
        "sample = np.random.normal(9.5, 3.5, 75)  # Simulating 75 samples with mean 9.5 and std 3.5\n",
        "population_mean = 10\n",
        "population_std = 3.5\n",
        "\n",
        "z_stat, p_value = z_test(sample, population_mean, population_std, alternative='less')\n",
        "print(f\"Z-statistic: {z_stat:.4f}, one-tailed p-value: {p_value:.4f}\")\n",
        "print(f\"Conclusion: {'Reject' if p_value < 0.05 else 'Fail to reject'} the null hypothesis.\")\n",
        "print(f\"Interpretation: There {'is' if p_value < 0.05 else 'is not'} significant evidence against the program's claim.\")"
      ]
    },
    {
      "cell_type": "code",
      "execution_count": null,
      "id": "89470ac8",
      "metadata": {
        "id": "89470ac8"
      },
      "outputs": [],
      "source": []
    },
    {
      "cell_type": "code",
      "execution_count": 12,
      "id": "0b906041",
      "metadata": {
        "id": "0b906041"
      },
      "outputs": [],
      "source": [
        "import numpy as np\n",
        "from scipy import stats\n",
        "\n",
        "def f_test(sample1, sample2, alternative='two-sided'):\n",
        "    f = np.var(sample1, ddof=1) / np.var(sample2, ddof=1)\n",
        "    df1 = len(sample1) - 1\n",
        "    df2 = len(sample2) - 1\n",
        "\n",
        "    if alternative == 'two-sided':\n",
        "        p_value = 2 * min(stats.f.cdf(f, df1, df2), 1 - stats.f.cdf(f, df1, df2))\n",
        "    elif alternative == 'less':\n",
        "        p_value = stats.f.cdf(f, df1, df2)\n",
        "    elif alternative == 'greater':\n",
        "        p_value = 1 - stats.f.cdf(f, df1, df2)\n",
        "\n",
        "    return f, p_value"
      ]
    },
    {
      "cell_type": "markdown",
      "source": [
        "Question: A company has two production lines for manufacturing light bulbs. They want to know if there's a difference in the variability of the lifespans between the two lines. They test 50 bulbs from each line with the following results:\n",
        "Line A: mean = 1000 hours, standard deviation = 100 hours\n",
        "Line B: mean = 990 hours, standard deviation = 120 hours\n",
        "Is there a significant difference in the variability of lifespans between the two production lines?"
      ],
      "metadata": {
        "id": "KjpNTNhawid5"
      },
      "id": "KjpNTNhawid5"
    },
    {
      "cell_type": "code",
      "execution_count": 13,
      "id": "60671e23",
      "metadata": {
        "id": "60671e23",
        "outputId": "945a43e6-c64c-46f5-d41a-4304f728f7a8",
        "colab": {
          "base_uri": "https://localhost:8080/"
        }
      },
      "outputs": [
        {
          "output_type": "stream",
          "name": "stdout",
          "text": [
            "Example 1: Two-sample F-test (two-tailed)\n",
            "F-statistic: 0.7919, two-tailed p-value: 0.4171\n",
            "Conclusion: Fail to reject the null hypothesis.\n",
            "Interpretation: There is not significant evidence of a difference in variability between the two production lines.\n"
          ]
        }
      ],
      "source": [
        "# Example 1: Two-sample F-test (two-tailed)\n",
        "print(\"Example 1: Two-sample F-test (two-tailed)\")\n",
        "\n",
        "np.random.seed(42)  # For reproducibility\n",
        "line_a = np.random.normal(1000, 100, 50)\n",
        "line_b = np.random.normal(990, 120, 50)\n",
        "\n",
        "f_stat, p_value = f_test(line_a, line_b)\n",
        "print(f\"F-statistic: {f_stat:.4f}, two-tailed p-value: {p_value:.4f}\")\n",
        "print(f\"Conclusion: {'Reject' if p_value < 0.05 else 'Fail to reject'} the null hypothesis.\")\n",
        "print(f\"Interpretation: There {'is' if p_value < 0.05 else 'is not'} significant evidence of a difference in variability between the two production lines.\")"
      ]
    },
    {
      "cell_type": "markdown",
      "source": [
        "Question: A teacher believes that the variability in test scores is greater for the morning class compared to the afternoon class. The morning class (n=30) has a variance of 25, while the afternoon class (n=28) has a variance of 16. Is there evidence to support the teacher's belief?\n"
      ],
      "metadata": {
        "id": "H_1TfF3NwpWO"
      },
      "id": "H_1TfF3NwpWO"
    },
    {
      "cell_type": "code",
      "execution_count": 14,
      "id": "3804c9b9",
      "metadata": {
        "id": "3804c9b9",
        "outputId": "ba2385db-98d0-4bf8-ffa9-af151d535aa5",
        "colab": {
          "base_uri": "https://localhost:8080/"
        }
      },
      "outputs": [
        {
          "output_type": "stream",
          "name": "stdout",
          "text": [
            "\n",
            "Example 2: Two-sample F-test (one-tailed, greater)\n",
            "Question: A teacher believes that the variability in test scores is greater for the morning class compared to the afternoon class. The morning class (n=30) has a variance of 25, while the afternoon class (n=28) has a variance of 16. Is there evidence to support the teacher's belief?\n",
            "F-statistic: 1.4450, one-tailed p-value: 0.1697\n",
            "Conclusion: Fail to reject the null hypothesis.\n",
            "Interpretation: There is not significant evidence that the variability in test scores is greater for the morning class.\n"
          ]
        }
      ],
      "source": [
        "# Example 2: Two-sample F-test (one-tailed, greater)\n",
        "print(\"\\nExample 2: Two-sample F-test (one-tailed, greater)\")\n",
        "print(\"Question: A teacher believes that the variability in test scores is greater for the morning class compared to the afternoon class. The morning class (n=30) has a variance of 25, while the afternoon class (n=28) has a variance of 16. Is there evidence to support the teacher's belief?\")\n",
        "\n",
        "np.random.seed(42)  # For reproducibility\n",
        "morning_class = np.random.normal(0, np.sqrt(25), 30)\n",
        "afternoon_class = np.random.normal(0, np.sqrt(16), 28)\n",
        "\n",
        "f_stat, p_value = f_test(morning_class, afternoon_class, alternative='greater')\n",
        "print(f\"F-statistic: {f_stat:.4f}, one-tailed p-value: {p_value:.4f}\")\n",
        "print(f\"Conclusion: {'Reject' if p_value < 0.05 else 'Fail to reject'} the null hypothesis.\")\n",
        "print(f\"Interpretation: There {'is' if p_value < 0.05 else 'is not'} significant evidence that the variability in test scores is greater for the morning class.\")"
      ]
    },
    {
      "cell_type": "markdown",
      "source": [
        "Question: A pharmaceutical company has developed a new process for manufacturing a drug. They believe this process will reduce the variability in the active ingredient concentration compared to the old process. They test 40 batches from each process with the following results:\n",
        "Old process: variance = 0.25\n",
        "New process: variance = 0.20\n",
        "Is there evidence to support the company's belief that the new process reduces variability?"
      ],
      "metadata": {
        "id": "0VYh1egHwwAI"
      },
      "id": "0VYh1egHwwAI"
    },
    {
      "cell_type": "code",
      "execution_count": 16,
      "id": "f04c8d8f",
      "metadata": {
        "id": "f04c8d8f",
        "outputId": "6bce31b0-262e-4f78-f4b1-3893946c3dab",
        "colab": {
          "base_uri": "https://localhost:8080/"
        }
      },
      "outputs": [
        {
          "output_type": "stream",
          "name": "stdout",
          "text": [
            "\n",
            "Example 3: Two-sample F-test (one-tailed, less)\n",
            "F-statistic: 1.2192, one-tailed p-value: 0.7305\n",
            "Conclusion: Fail to reject the null hypothesis.\n",
            "Interpretation: There is not significant evidence that the new process reduces variability in the active ingredient concentration.\n"
          ]
        }
      ],
      "source": [
        "# Example 3: Two-sample F-test (one-tailed, less)\n",
        "print(\"\\nExample 3: Two-sample F-test (one-tailed, less)\")\n",
        "\n",
        "np.random.seed(42)  # For reproducibility\n",
        "old_process = np.random.normal(0, np.sqrt(0.25), 40)\n",
        "new_process = np.random.normal(0, np.sqrt(0.20), 40)\n",
        "\n",
        "f_stat, p_value = f_test(old_process, new_process, alternative='less')\n",
        "print(f\"F-statistic: {f_stat:.4f}, one-tailed p-value: {p_value:.4f}\")\n",
        "print(f\"Conclusion: {'Reject' if p_value < 0.05 else 'Fail to reject'} the null hypothesis.\")\n",
        "print(f\"Interpretation: There {'is' if p_value < 0.05 else 'is not'} significant evidence that the new process reduces variability in the active ingredient concentration.\")"
      ]
    },
    {
      "cell_type": "markdown",
      "source": [
        "Question: A researcher wants to know if there's a relationship between gender and preference for different types of movies. They surveyed 200 people and got the following results:\n",
        "             Action  Comedy  Drama\n",
        "Male           30      25     20\n",
        "Female         20      40     65\n",
        "Is there a significant relationship between gender and movie preference?"
      ],
      "metadata": {
        "id": "W5DWlvllw9hH"
      },
      "id": "W5DWlvllw9hH"
    },
    {
      "cell_type": "code",
      "execution_count": 18,
      "id": "238b14b8",
      "metadata": {
        "id": "238b14b8",
        "outputId": "47056292-86e0-4d61-8752-51f326a0a440",
        "colab": {
          "base_uri": "https://localhost:8080/"
        }
      },
      "outputs": [
        {
          "output_type": "stream",
          "name": "stdout",
          "text": [
            "Example 1: Chi-square test of independence\n",
            "Chi-square statistic: 17.9041\n",
            "p-value: 0.0001\n",
            "Degrees of freedom: 2\n",
            "Conclusion: Reject the null hypothesis.\n",
            "Interpretation: There is significant evidence of a relationship between gender and movie preference.\n"
          ]
        }
      ],
      "source": [
        "import numpy as np\n",
        "import pandas as pd\n",
        "from scipy import stats\n",
        "import statsmodels.api as sm\n",
        "from statsmodels.formula.api import ols\n",
        "\n",
        "# Example 1: Chi-square test of independence\n",
        "print(\"Example 1: Chi-square test of independence\")\n",
        "\n",
        "# Create the contingency table\n",
        "observed = pd.DataFrame({\n",
        "    'Action': [30, 20],\n",
        "    'Comedy': [25, 40],\n",
        "    'Drama': [20, 65]\n",
        "}, index=['Male', 'Female'])\n",
        "\n",
        "chi2, p_value, dof, expected = stats.chi2_contingency(observed)\n",
        "\n",
        "print(f\"Chi-square statistic: {chi2:.4f}\")\n",
        "print(f\"p-value: {p_value:.4f}\")\n",
        "print(f\"Degrees of freedom: {dof}\")\n",
        "print(f\"Conclusion: {'Reject' if p_value < 0.05 else 'Fail to reject'} the null hypothesis.\")\n",
        "print(f\"Interpretation: There {'is' if p_value < 0.05 else 'is not'} significant evidence of a relationship between gender and movie preference.\")"
      ]
    },
    {
      "cell_type": "code",
      "execution_count": null,
      "id": "7d813caf",
      "metadata": {
        "id": "7d813caf"
      },
      "outputs": [],
      "source": []
    },
    {
      "cell_type": "code",
      "execution_count": null,
      "id": "7fe713f5",
      "metadata": {
        "id": "7fe713f5",
        "outputId": "02c98471-2a89-4007-a7e3-c716ef7cdf6f"
      },
      "outputs": [
        {
          "name": "stdout",
          "output_type": "stream",
          "text": [
            "Simple One-Way ANOVA Example\n",
            "Question: Does the type of fertilizer affect plant growth?\n",
            "F-statistic: 23.1467\n",
            "p-value: 0.0001\n",
            "Conclusion: Reject the null hypothesis.\n",
            "Interpretation: There is significant evidence that fertilizer type affects plant growth.\n",
            "\n"
          ]
        }
      ],
      "source": [
        "import numpy as np\n",
        "import pandas as pd\n",
        "import scipy.stats as stats\n",
        "import statsmodels.api as sm\n",
        "from statsmodels.formula.api import ols\n",
        "\n",
        "# One-Way ANOVA Example\n",
        "print(\"Simple One-Way ANOVA Example\")\n",
        "print(\"Question: Does the type of fertilizer affect plant growth?\")\n",
        "\n",
        "# Sample data: Plant growth (in cm) for three fertilizer types\n",
        "fertilizer_A = [20, 22, 21, 23, 25]\n",
        "fertilizer_B = [18, 19, 20, 21, 17]\n",
        "fertilizer_C = [15, 16, 14, 15, 17]\n",
        "\n",
        "# Perform one-way ANOVA using scipy.stats\n",
        "f_statistic, p_value = stats.f_oneway(fertilizer_A, fertilizer_B, fertilizer_C)\n",
        "\n",
        "print(f\"F-statistic: {f_statistic:.4f}\")\n",
        "print(f\"p-value: {p_value:.4f}\")\n",
        "print(f\"Conclusion: {'Reject' if p_value < 0.05 else 'Fail to reject'} the null hypothesis.\")\n",
        "print(f\"Interpretation: There {'is' if p_value < 0.05 else 'is not'} significant evidence that fertilizer type affects plant growth.\\n\")"
      ]
    },
    {
      "cell_type": "code",
      "execution_count": null,
      "id": "476db383",
      "metadata": {
        "id": "476db383",
        "outputId": "c57c14a5-cc99-47c8-b1e2-2815407df1bb"
      },
      "outputs": [
        {
          "name": "stdout",
          "output_type": "stream",
          "text": [
            "Simple Two-Way ANOVA Example\n",
            "Question: Do fertilizer type and sunlight exposure affect plant growth?\n",
            "\n",
            "Two-Way ANOVA Results (effects of fertilizer and sunlight on growth, including interaction):\n",
            "                                 sum_sq   df             F    PR(>F)\n",
            "C(Fertilizer)              2.700000e+01  1.0  2.700000e+01  0.000826\n",
            "C(Sunlight)                7.500000e+01  1.0  7.500000e+01  0.000025\n",
            "C(Fertilizer):C(Sunlight)  1.789728e-29  1.0  1.789728e-29  1.000000\n",
            "Residual                   8.000000e+00  8.0           NaN       NaN\n",
            "\n",
            "Conclusion:\n",
            "1. Effect of Fertilizer: Reject the null hypothesis.\n",
            "2. Effect of Sunlight: Reject the null hypothesis.\n",
            "3. Interaction Effect: Fail to reject the null hypothesis.\n",
            "   Interpretation: There is not significant evidence of an interaction between fertilizer type and sunlight exposure on plant growth.\n"
          ]
        }
      ],
      "source": [
        "# Two-Way ANOVA Example (Corrected)\n",
        "print(\"Simple Two-Way ANOVA Example\")\n",
        "print(\"Question: Do fertilizer type and sunlight exposure affect plant growth?\")\n",
        "\n",
        "# Sample data: Plant growth (in cm) for combinations of fertilizer and sunlight\n",
        "data = {\n",
        "    'Fertilizer': ['A', 'A', 'B', 'B'] * 3,\n",
        "    'Sunlight': ['Low', 'High'] * 6,\n",
        "    'Growth': [20, 25, 18, 22, 22, 27, 19, 24, 21, 26, 17, 23]\n",
        "}\n",
        "df = pd.DataFrame(data)\n",
        "\n",
        "# Perform two-way ANOVA with interaction effects using statsmodels\n",
        "model = ols('Growth ~ C(Fertilizer) + C(Sunlight) + C(Fertilizer):C(Sunlight)', data=df).fit()\n",
        "anova_table = sm.stats.anova_lm(model, typ=2)\n",
        "\n",
        "# Print the ANOVA table\n",
        "print(\"\\nTwo-Way ANOVA Results (effects of fertilizer and sunlight on growth, including interaction):\")\n",
        "print(anova_table)\n",
        "\n",
        "# Conclusion based on p-values\n",
        "print(\"\\nConclusion:\")\n",
        "print(f\"1. Effect of Fertilizer: {'Reject' if anova_table.loc['C(Fertilizer)', 'PR(>F)'] < 0.05 else 'Fail to reject'} the null hypothesis.\")\n",
        "print(f\"2. Effect of Sunlight: {'Reject' if anova_table.loc['C(Sunlight)', 'PR(>F)'] < 0.05 else 'Fail to reject'} the null hypothesis.\")\n",
        "print(f\"3. Interaction Effect: {'Reject' if anova_table.loc['C(Fertilizer):C(Sunlight)', 'PR(>F)'] < 0.05 else 'Fail to reject'} the null hypothesis.\")\n",
        "print(f\"   Interpretation: There {'is' if anova_table.loc['C(Fertilizer):C(Sunlight)', 'PR(>F)'] < 0.05 else 'is not'} significant evidence of an interaction between fertilizer type and sunlight exposure on plant growth.\")\n"
      ]
    },
    {
      "cell_type": "code",
      "execution_count": null,
      "id": "89843975",
      "metadata": {
        "id": "89843975"
      },
      "outputs": [],
      "source": []
    }
  ],
  "metadata": {
    "kernelspec": {
      "display_name": "Python 3 (ipykernel)",
      "language": "python",
      "name": "python3"
    },
    "language_info": {
      "codemirror_mode": {
        "name": "ipython",
        "version": 3
      },
      "file_extension": ".py",
      "mimetype": "text/x-python",
      "name": "python",
      "nbconvert_exporter": "python",
      "pygments_lexer": "ipython3",
      "version": "3.11.4"
    },
    "colab": {
      "provenance": []
    }
  },
  "nbformat": 4,
  "nbformat_minor": 5
}